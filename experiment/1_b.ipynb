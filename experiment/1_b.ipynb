
{
 "cells": [
  {
   "cell_type": "code",
   "execution_count": null,
   "metadata": {},
   "outputs": [],
   "source": [
    "import numpy as np\n",
    "from tensorflow.keras.models import Sequential\n",
    "from tensorflow.keras.layers import Dense\n",
    "from tensorflow.keras.optimizers import SGD\n",
    "from tensorflow.keras.losses import BinaryCrossentropy\n",
    "\n",
    "# Define the XOR dataset\n",
    "inputs = np.array([[0, 0], [0, 1], [1, 0], [1, 1]], dtype=np.float32)  # Input data\n",
    "targets = np.array([[0], [1], [1], [0]], dtype=np.float32)  # Expected output\n",
    "\n",
    "# Build the Neural Network model using model.add()\n",
    "model = Sequential()\n",
    "model.add(Dense(4, input_dim=2, activation='sigmoid'))  # Hidden layer (2 -> 4 neurons)\n",
    "model.add(Dense(1, activation='sigmoid'))              # Output layer (4 -> 1 neuron)\n",
    "\n",
    "# Compile the model\n",
    "model.compile(optimizer=SGD(learning_rate=0.1),\n",
    "              loss=BinaryCrossentropy(),\n",
    "              metrics=['accuracy'])\n",
    "\n",
    "# Train the model\n",
    "model.fit(inputs, targets, epochs=5000, verbose=0)  # Train for 5000 epochs\n",
    "\n",
    "# Test the model\n",
    "predictions = model.predict(inputs)\n",
    "\n",
    "# Print the results\n",
    "print(\"Input -> Predicted Output\")\n",
    "for input_val, prediction in zip(inputs, predictions):\n",
    "    print(f\"{input_val} -> {prediction[0]:.4f}\")"
   ]
  }
 ],
 "metadata": {
  "kernelspec": {
   "display_name": "Python 3",
   "language": "python",
   "name": "python3"
  },
  "language_info": {
   "name": "python",
   "version": ""
  }
 },
 "nbformat": 4,
 "nbformat_minor": 2
}
