{
 "cells": [
  {
   "cell_type": "code",
   "execution_count": null,
   "id": "12065c74",
   "metadata": {},
   "outputs": [],
   "source": [
    "\n",
    "import tensorflow as tf\n",
    "from tensorflow import keras\n",
    "from tensorflow.keras.models import Sequential\n",
    "from tensorflow.keras.layers import Dense, Dropout\n",
    "from sklearn.datasets import fetch_california_housing\n",
    "from sklearn.model_selection import train_test_split\n",
    "import numpy as np\n",
    "import logging\n",
    "tf.get_logger().setLevel(logging.ERROR)\n",
    "\n",
    "EPOCHS = 256\n",
    "BATCH_SIZE = 128\n"
   ]
  },
  {
   "cell_type": "code",
   "execution_count": null,
   "id": "6c7d1ba7",
   "metadata": {},
   "outputs": [],
   "source": [
    "\n",
    "# Read dataset and split into train and test\n",
    "california_housing = fetch_california_housing()\n",
    "data = california_housing.get('data')\n",
    "target = california_housing.get('target')\n",
    "\n",
    "raw_x_train, raw_x_test, y_train, y_test = train_test_split(\n",
    "    data, target, test_size=0.2, random_state=0)\n",
    "\n",
    "# Standardize the data\n",
    "x_mean = np.mean(raw_x_train, axis=0)\n",
    "x_stddev = np.std(raw_x_train, axis=0)\n",
    "x_train = (raw_x_train - x_mean) / x_stddev\n",
    "x_test = (raw_x_test - x_mean) / x_stddev\n"
   ]
  },
  {
   "cell_type": "code",
   "execution_count": null,
   "id": "78271df6",
   "metadata": {},
   "outputs": [],
   "source": [
    "\n",
    "model = Sequential()\n",
    "model.add(Dense(256, activation='relu', input_shape=[8]))\n",
    "model.add(Dropout(0.3))\n",
    "model.add(Dense(256, activation='relu'))\n",
    "model.add(Dropout(0.3))\n",
    "model.add(Dense(1, activation='linear'))\n",
    "\n",
    "model.compile(loss='mean_squared_error', optimizer='adam',\n",
    "              metrics=['mean_absolute_error'])\n",
    "model.summary()\n"
   ]
  },
  {
   "cell_type": "code",
   "execution_count": null,
   "id": "6d128f88",
   "metadata": {},
   "outputs": [],
   "source": [
    "\n",
    "history = model.fit(x_train, y_train, validation_data=(x_test, y_test),\n",
    "                    epochs=EPOCHS, batch_size=BATCH_SIZE,\n",
    "                    verbose=2, shuffle=True)\n"
   ]
  },
  {
   "cell_type": "code",
   "execution_count": null,
   "id": "8009779d",
   "metadata": {},
   "outputs": [],
   "source": [
    "\n",
    "# Print first 4 predictions\n",
    "predictions = model.predict(x_test)\n",
    "for i in range(0, 4):\n",
    "    print('Prediction: ', predictions[i, 0], ', true value: ', y_test[i])\n"
   ]
  }
 ],
 "metadata": {
  "kernelspec": {
   "display_name": "Python 3",
   "language": "python",
   "name": "python3"
  },
  "language_info": {
   "name": "python"
  }
 },
 "nbformat": 4,
 "nbformat_minor": 5
}
